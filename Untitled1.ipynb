{
 "cells": [
  {
   "cell_type": "code",
   "execution_count": 10,
   "metadata": {},
   "outputs": [],
   "source": [
    "import PyPDF2 as pdf\n",
    "import tabula as ta\n",
    "import pandas as pd"
   ]
  },
  {
   "cell_type": "code",
   "execution_count": 14,
   "metadata": {},
   "outputs": [],
   "source": [
    "obj = open('college_cutoffs.pdf','rb')\n",
    "read = pdf.PdfFileReader(obj)\n",
    "#obj.close()"
   ]
  },
  {
   "cell_type": "code",
   "execution_count": 57,
   "metadata": {},
   "outputs": [
    {
     "name": "stdout",
     "output_type": "stream",
     "text": [
      "777 5331 - Sandip Foundation's, Sandip Institute of Engineering & Management, Nashik533124510 - Computer EngineeringStatus:Home University : Savitribai Phule Pune UniversityHome University Seats Allotted to Home University Candidates\n"
     ]
    }
   ],
   "source": [
    "for i in range(777,778):\n",
    "    page = read.getPage(i)\n",
    "    text = page.extractText()\n",
    "    #if (text.find('Savitribai Phule Pune University')>0 ):\n",
    "        #a=ta.read_pdf('college_cutoffs.pdf',pages=str(i),multiple_tables=True)\n",
    "       # print (text)\n",
    "        #print (i+1,text.find('Computer'))\n",
    "        #print ('\\n')\n",
    "    page = read.getPage(i)\n",
    "    text = page.extractText()\n",
    "    text=text[text.find('2019-20Government of Maharashtra')+len('2019-20Government of Maharashtra'):text.find('Legends:')]\n",
    "    text= text.split('\\n')\n",
    "    c_name = text[0]\n",
    "    print (i,c_name)   "
   ]
  },
  {
   "cell_type": "code",
   "execution_count": 16,
   "metadata": {},
   "outputs": [],
   "source": [
    "page = read.getPage(7)\n"
   ]
  },
  {
   "cell_type": "code",
   "execution_count": 21,
   "metadata": {},
   "outputs": [
    {
     "name": "stdout",
     "output_type": "stream",
     "text": [
      "768\n"
     ]
    }
   ],
   "source": [
    "for i in range (768,769):\n",
    "    print (i)"
   ]
  },
  {
   "cell_type": "code",
   "execution_count": 129,
   "metadata": {},
   "outputs": [
    {
     "name": "stdout",
     "output_type": "stream",
     "text": [
      "6144 - Genba Sopanrao Moze College of Engineering, Baner-Balewadi, Pune614419110 - Civil Engineering\n",
      "Status:Home University : Savitribai Phule Pune UniversityHome University Seats Allotted to Home University Candidates\n",
      "GOPENH  I39934(71.5439265)StageHome University Seats Allotted to Other Than Home University Candidates\n",
      "GOPENH  I54946(47.5659567)Stage614424510 - Computer EngineeringStatus:Home University : Savitribai Phule Pune UniversityHome University Seats Allotted to Home University Candidates\n",
      "GOPENHGVJHGNT2HGNT3HGOBCHGSEBCHLOPENHLSCHLVJH\n",
      "LNT2HLOBCHLSEBCH  I44039(65.8332307)51107\n",
      "(54.4904152)56576(44.7078931)57276(43.3377027)66691(27.4414664)69550(24.1061535)38800(72.9731393)80076(12.4837960)74962(18.6800692)65711\n",
      "(28.8656098)47947(59.8621843)53347(50.5605324)StageHome University Seats Allotted to Other Than Home University Candidates\n",
      "GSCHGNT1HLSEBCH  I83114\n",
      "(7.8680938)84214(5.9638044)50441(55.6237915)StageOther Than Home University Seats Allotted to Other Than Home University Candidates\n",
      "GOPENOGSCOGVJOGNT1OGNT2OGOBCOGSEBCOLOPENOLSCOLOBCOLSEBCO  I37848(74.1416394)46353(62.3063665)63022(32.9414193)79167(13.7283373)47774(60.1315875)42138(68.5924408)50700(55.1842008)50742(55.0940376)72419(21.2661950)63914(31.5980244)72422(21.2647466)StageState LevelEWSTFWS  I71350(22.3419972)32575(80.0380930)Stage\n"
     ]
    }
   ],
   "source": [
    "page = read.getPage(857)\n",
    "text = page.extractText()\n",
    "text=text[text.find('2019-20Government of Maharashtra')+len('2019-20Government of Maharashtra'):]\n",
    "text=text[:text.find('Legends:')-1]\n",
    "#text= text.split('\\n')\n",
    "c_name = text[0]\n",
    "print (text)"
   ]
  },
  {
   "cell_type": "code",
   "execution_count": 119,
   "metadata": {},
   "outputs": [
    {
     "data": {
      "text/plain": [
       "[\"6141 - Jaywant Shikshan Prasarak Mandal's,Rajarshi Shahu College of Engineering, Tathawade, Pune\",\n",
       " '614119110 - Civil Engineering',\n",
       " 'Status:Autonomous Home University : Savitribai Phule Pune UniversityState LevelGOPENSGSCSGSTSGVJSGNT1SGNT2SGNT3SGOBCSGSEBCSLOPENSLSCSLVJS',\n",
       " 'LNT1SLNT2SLOBCSLSEBCSEWSTFWS  I32932(79.6846824)54394(48.5548547)80325(12.1155392',\n",
       " ')40501(70.8309495)34285(78.2855239)39606(72.0103126)41820(69.0139264)43873(66.0736658)42772(67.7212256)52624(51.7127380)70959(22.7211170',\n",
       " ')57642(42.6801272)64262(31.0052649)67935(25.8978296)59532(39.1967150)27093(85.0513821)  II43369(66.7906259)41317(69.7833911',\n",
       " ')47854(60.0102837)Stage614124510 - Computer EngineeringStatus:Autonomous Home University : Savitribai Phule Pune UniversityState LevelGOPENSGSCSGSTSGVJSGNT1SGNT3SGOBCSGSEBCSLOPENSLSCSLOBCSLSEBCSEWSTFWS  I8707(95.9585901)27606(84.6313449)48589(58.7838474)20479(89.7203131)12249(94.2291955)9277(95.6794102)10784(94.9617259)13555(93.5712579)9646(95.5063259)29115',\n",
       " '(83.3295916)9944(95.3556919)18847(90.6719147)22791(88.2143349)5848(97.3045197)Stage614124610 - Information Technology',\n",
       " 'Status:Autonomous Home University : Savitribai Phule Pune UniversityState LevelGOPENSGSCSGVJSGNT1SGNT2SGNT3SGOBCSGSEBCSLOPENSLSCSLVJS',\n",
       " 'LNT2SLNT3SLOBCSLSEBCSDEFOPENSEWSTFWS  I14585(93.0440387)41277(69.8536388)28338(84.0056343)19600(90.2283409)23642(87.6222996)17566(91.4008241)17600(91.3819949)22362(88.5170513)13990(93.3514625)54032(49.2855746)72513(21.1811012',\n",
       " ')22685(88.2976181)18424(90.9199539)18990(90.5922525)23552(87.6889262)18460(90.8971416)79893(12.7455950)11980',\n",
       " '(94.3624487)Stage614129310 - Electrical EngineeringStatus:Autonomous Home University : Savitribai Phule Pune UniversityState LevelGOPENSGSCSGSTSGNT1SGNT2SGOBCSGSEBCSLOPENSLSCSLVJS',\n",
       " 'LNT2SLOBCSLSEBCSEWSTFWS  I37765(74.2452004)74189(19.4661906)55576(46.5281751)70441(23.2305932)47922(59.8983944)51004(54.6613269)60958(36.5102873)38328(73.5296887)45135(64.1118023',\n",
       " ')68795(24.9248640)81730(10.0870491)20437(89.7452981)  II42051(68.7191761)48095(59.6116104',\n",
       " ')62526(33.8260322)Stage']"
      ]
     },
     "execution_count": 119,
     "metadata": {},
     "output_type": "execute_result"
    }
   ],
   "source": [
    "text.split('\\n')\n"
   ]
  },
  {
   "cell_type": "code",
   "execution_count": 130,
   "metadata": {},
   "outputs": [
    {
     "data": {
      "text/plain": [
       "['614419110', '614424510']"
      ]
     },
     "execution_count": 130,
     "metadata": {},
     "output_type": "execute_result"
    }
   ],
   "source": [
    "import re\n",
    "re.findall(r'[0-9]{9}',text)"
   ]
  },
  {
   "cell_type": "code",
   "execution_count": 121,
   "metadata": {},
   "outputs": [
    {
     "data": {
      "text/plain": [
       "\"6141 - Jaywant Shikshan Prasarak Mandal's,Rajarshi Shahu College of Engineering, Tathawade, Pune\\n614119110 - Civil Engineering\\nStatus:Autonomous Home University : Savitribai Phule Pune UniversityState LevelGOPENSGSCSGSTSGVJSGNT1SGNT2SGNT3SGOBCSGSEBCSLOPENSLSCSLVJS\\nLNT1SLNT2SLOBCSLSEBCSEWSTFWS  I32932(79.6846824)54394(48.5548547)80325(12.1155392\\n)40501(70.8309495)34285(78.2855239)39606(72.0103126)41820(69.0139264)43873(66.0736658)42772(67.7212256)52624(51.7127380)70959(22.7211170\\n)57642(42.6801272)64262(31.0052649)67935(25.8978296)59532(39.1967150)27093(85.0513821)  II43369(66.7906259)41317(69.7833911\\n)47854(60.0102837)Stage614124510 - Computer EngineeringStatus:Autonomous Home University : Savitribai Phule Pune UniversityState LevelGOPENSGSCSGSTSGVJSGNT1SGNT3SGOBCSGSEBCSLOPENSLSCSLOBCSLSEBCSEWSTFWS  I8707(95.9585901)27606(84.6313449)48589(58.7838474)20479(89.7203131)12249(94.2291955)9277(95.6794102)10784(94.9617259)13555(93.5712579)9646(95.5063259)29115\\n(83.3295916)9944(95.3556919)18847(90.6719147)22791(88.2143349)5848(97.3045197)Stage614124610 - Information Technology\\nStatus:Autonomous Home University : Savitribai Phule Pune UniversityState LevelGOPENSGSCSGVJSGNT1SGNT2SGNT3SGOBCSGSEBCSLOPENSLSCSLVJS\\nLNT2SLNT3SLOBCSLSEBCSDEFOPENSEWSTFWS  I14585(93.0440387)41277(69.8536388)28338(84.0056343)19600(90.2283409)23642(87.6222996)17566(91.4008241)17600(91.3819949)22362(88.5170513)13990(93.3514625)54032(49.2855746)72513(21.1811012\\n)22685(88.2976181)18424(90.9199539)18990(90.5922525)23552(87.6889262)18460(90.8971416)79893(12.7455950)11980\\n(94.3624487)Stage614129310 - Electrical EngineeringStatus:Autonomous Home University : Savitribai Phule Pune UniversityState LevelGOPENSGSCSGSTSGNT1SGNT2SGOBCSGSEBCSLOPENSLSCSLVJS\\nLNT2SLOBCSLSEBCSEWSTFWS  I37765(74.2452004)74189(19.4661906)55576(46.5281751)70441(23.2305932)47922(59.8983944)51004(54.6613269)60958(36.5102873)38328(73.5296887)45135(64.1118023\\n)68795(24.9248640)81730(10.0870491)20437(89.7452981)  II42051(68.7191761)48095(59.6116104\\n)62526(33.8260322)Stage\""
      ]
     },
     "execution_count": 121,
     "metadata": {},
     "output_type": "execute_result"
    }
   ],
   "source": [
    "text"
   ]
  },
  {
   "cell_type": "code",
   "execution_count": 122,
   "metadata": {},
   "outputs": [
    {
     "name": "stdout",
     "output_type": "stream",
     "text": [
      "6\n"
     ]
    }
   ],
   "source": [
    "print(c_name)"
   ]
  },
  {
   "cell_type": "code",
   "execution_count": 123,
   "metadata": {},
   "outputs": [
    {
     "data": {
      "text/plain": [
       "\"6141 - Jaywant Shikshan Prasarak Mandal's,Rajarshi Shahu College of Engineering, Tathawade, Pune\\n614119110 - Civil Engineering\\nStatus:Autonomous Home University : Savitribai Phule Pune UniversityState LevelGOPENSGSCSGSTSGVJSGNT1SGNT2SGNT3SGOBCSGSEBCSLOPENSLSCSLVJS\\nLNT1SLNT2SLOBCSLSEBCSEWSTFWS  I32932(79.6846824)54394(48.5548547)80325(12.1155392\\n)40501(70.8309495)34285(78.2855239)39606(72.0103126)41820(69.0139264)43873(66.0736658)42772(67.7212256)52624(51.7127380)70959(22.7211170\\n)57642(42.6801272)64262(31.0052649)67935(25.8978296)59532(39.1967150)27093(85.0513821)  II43369(66.7906259)41317(69.7833911\\n)47854(60.0102837)Stage614124510 - Computer EngineeringStatus:Autonomous Home University : Savitribai Phule Pune UniversityState LevelGOPENSGSCSGSTSGVJSGNT1SGNT3SGOBCSGSEBCSLOPENSLSCSLOBCSLSEBCSEWSTFWS  I8707(95.9585901)27606(84.6313449)48589(58.7838474)20479(89.7203131)12249(94.2291955)9277(95.6794102)10784(94.9617259)13555(93.5712579)9646(95.5063259)29115\\n(83.3295916)9944(95.3556919)18847(90.6719147)22791(88.2143349)5848(97.3045197)Stage614124610 - Information Technology\\nStatus:Autonomous Home University : Savitribai Phule Pune UniversityState LevelGOPENSGSCSGVJSGNT1SGNT2SGNT3SGOBCSGSEBCSLOPENSLSCSLVJS\\nLNT2SLNT3SLOBCSLSEBCSDEFOPENSEWSTFWS  I14585(93.0440387)41277(69.8536388)28338(84.0056343)19600(90.2283409)23642(87.6222996)17566(91.4008241)17600(91.3819949)22362(88.5170513)13990(93.3514625)54032(49.2855746)72513(21.1811012\\n)22685(88.2976181)18424(90.9199539)18990(90.5922525)23552(87.6889262)18460(90.8971416)79893(12.7455950)11980\\n(94.3624487)Stage614129310 - Electrical EngineeringStatus:Autonomous Home University : Savitribai Phule Pune UniversityState LevelGOPENSGSCSGSTSGNT1SGNT2SGOBCSGSEBCSLOPENSLSCSLVJS\\nLNT2SLOBCSLSEBCSEWSTFWS  I37765(74.2452004)74189(19.4661906)55576(46.5281751)70441(23.2305932)47922(59.8983944)51004(54.6613269)60958(36.5102873)38328(73.5296887)45135(64.1118023\\n)68795(24.9248640)81730(10.0870491)20437(89.7452981)  II42051(68.7191761)48095(59.6116104\\n)62526(33.8260322)Stage\""
      ]
     },
     "execution_count": 123,
     "metadata": {},
     "output_type": "execute_result"
    }
   ],
   "source": [
    "text"
   ]
  },
  {
   "cell_type": "code",
   "execution_count": 131,
   "metadata": {},
   "outputs": [],
   "source": [
    "stage = text.split('Stage')"
   ]
  },
  {
   "cell_type": "code",
   "execution_count": 132,
   "metadata": {},
   "outputs": [
    {
     "data": {
      "text/plain": [
       "7"
      ]
     },
     "execution_count": 132,
     "metadata": {},
     "output_type": "execute_result"
    }
   ],
   "source": [
    "len(stage)"
   ]
  },
  {
   "cell_type": "code",
   "execution_count": 126,
   "metadata": {},
   "outputs": [
    {
     "data": {
      "text/plain": [
       "\"6141 - Jaywant Shikshan Prasarak Mandal's,Rajarshi Shahu College of Engineering, Tathawade, Pune\\n614119110 - Civil Engineering\\nStatus:Autonomous Home University : Savitribai Phule Pune UniversityState LevelGOPENSGSCSGSTSGVJSGNT1SGNT2SGNT3SGOBCSGSEBCSLOPENSLSCSLVJS\\nLNT1SLNT2SLOBCSLSEBCSEWSTFWS  I32932(79.6846824)54394(48.5548547)80325(12.1155392\\n)40501(70.8309495)34285(78.2855239)39606(72.0103126)41820(69.0139264)43873(66.0736658)42772(67.7212256)52624(51.7127380)70959(22.7211170\\n)57642(42.6801272)64262(31.0052649)67935(25.8978296)59532(39.1967150)27093(85.0513821)  II43369(66.7906259)41317(69.7833911\\n)47854(60.0102837)\""
      ]
     },
     "execution_count": 126,
     "metadata": {},
     "output_type": "execute_result"
    }
   ],
   "source": [
    "stage[0]"
   ]
  },
  {
   "cell_type": "code",
   "execution_count": 133,
   "metadata": {},
   "outputs": [],
   "source": [
    "split = (re.split(r'[0-9]{9}',text))"
   ]
  },
  {
   "cell_type": "code",
   "execution_count": 136,
   "metadata": {},
   "outputs": [
    {
     "name": "stdout",
     "output_type": "stream",
     "text": [
      " - Civil Engineering\n",
      "Status:Home University : Savitribai Phule Pune UniversityHome University Seats Allotted to Home University Candidates\n",
      "GOPENH  I39934(71.5439265)\n",
      "..................... \n",
      "\n",
      "Home University Seats Allotted to Other Than Home University Candidates\n",
      "GOPENH  I54946(47.5659567)\n",
      "..................... \n",
      "\n",
      "\n",
      "..................... \n",
      "\n",
      "3\n",
      " - Computer EngineeringStatus:Home University : Savitribai Phule Pune UniversityHome University Seats Allotted to Home University Candidates\n",
      "GOPENHGVJHGNT2HGNT3HGOBCHGSEBCHLOPENHLSCHLVJH\n",
      "LNT2HLOBCHLSEBCH  I44039(65.8332307)51107\n",
      "(54.4904152)56576(44.7078931)57276(43.3377027)66691(27.4414664)69550(24.1061535)38800(72.9731393)80076(12.4837960)74962(18.6800692)65711\n",
      "(28.8656098)47947(59.8621843)53347(50.5605324)\n",
      "..................... \n",
      "\n",
      "Home University Seats Allotted to Other Than Home University Candidates\n",
      "GSCHGNT1HLSEBCH  I83114\n",
      "(7.8680938)84214(5.9638044)50441(55.6237915)\n",
      "..................... \n",
      "\n",
      "Other Than Home University Seats Allotted to Other Than Home University Candidates\n",
      "GOPENOGSCOGVJOGNT1OGNT2OGOBCOGSEBCOLOPENOLSCOLOBCOLSEBCO  I37848(74.1416394)46353(62.3063665)63022(32.9414193)79167(13.7283373)47774(60.1315875)42138(68.5924408)50700(55.1842008)50742(55.0940376)72419(21.2661950)63914(31.5980244)72422(21.2647466)\n",
      "..................... \n",
      "\n",
      "State LevelEWSTFWS  I71350(22.3419972)32575(80.0380930)\n",
      "..................... \n",
      "\n",
      "\n",
      "..................... \n",
      "\n",
      "5\n"
     ]
    }
   ],
   "source": [
    "for i in split:\n",
    "    if i.find('Stage')>0:\n",
    "        for j in i.split('Stage'):\n",
    "            print (j)\n",
    "            print ('..................... \\n')\n",
    "        print (len(i.split('Stage')))"
   ]
  },
  {
   "cell_type": "code",
   "execution_count": 135,
   "metadata": {},
   "outputs": [
    {
     "data": {
      "text/plain": [
       "['6144 - Genba Sopanrao Moze College of Engineering, Baner-Balewadi, Pune',\n",
       " ' - Civil Engineering\\nStatus:Home University : Savitribai Phule Pune UniversityHome University Seats Allotted to Home University Candidates\\nGOPENH  I39934(71.5439265)StageHome University Seats Allotted to Other Than Home University Candidates\\nGOPENH  I54946(47.5659567)Stage',\n",
       " ' - Computer EngineeringStatus:Home University : Savitribai Phule Pune UniversityHome University Seats Allotted to Home University Candidates\\nGOPENHGVJHGNT2HGNT3HGOBCHGSEBCHLOPENHLSCHLVJH\\nLNT2HLOBCHLSEBCH  I44039(65.8332307)51107\\n(54.4904152)56576(44.7078931)57276(43.3377027)66691(27.4414664)69550(24.1061535)38800(72.9731393)80076(12.4837960)74962(18.6800692)65711\\n(28.8656098)47947(59.8621843)53347(50.5605324)StageHome University Seats Allotted to Other Than Home University Candidates\\nGSCHGNT1HLSEBCH  I83114\\n(7.8680938)84214(5.9638044)50441(55.6237915)StageOther Than Home University Seats Allotted to Other Than Home University Candidates\\nGOPENOGSCOGVJOGNT1OGNT2OGOBCOGSEBCOLOPENOLSCOLOBCOLSEBCO  I37848(74.1416394)46353(62.3063665)63022(32.9414193)79167(13.7283373)47774(60.1315875)42138(68.5924408)50700(55.1842008)50742(55.0940376)72419(21.2661950)63914(31.5980244)72422(21.2647466)StageState LevelEWSTFWS  I71350(22.3419972)32575(80.0380930)Stage']"
      ]
     },
     "execution_count": 135,
     "metadata": {},
     "output_type": "execute_result"
    }
   ],
   "source": [
    "split"
   ]
  },
  {
   "cell_type": "code",
   "execution_count": 137,
   "metadata": {},
   "outputs": [],
   "source": [
    "t = 'State LevelEWSTFWS  I71350(22.3419972)32575(80.0380930)'"
   ]
  },
  {
   "cell_type": "code",
   "execution_count": 139,
   "metadata": {},
   "outputs": [
    {
     "data": {
      "text/plain": [
       "['EWS', 'TFW']"
      ]
     },
     "execution_count": 139,
     "metadata": {},
     "output_type": "execute_result"
    }
   ],
   "source": [
    "re.findall(r'[A-Z]{3}',t)"
   ]
  },
  {
   "cell_type": "code",
   "execution_count": null,
   "metadata": {},
   "outputs": [],
   "source": []
  }
 ],
 "metadata": {
  "kernelspec": {
   "display_name": "Python 3",
   "language": "python",
   "name": "python3"
  },
  "language_info": {
   "codemirror_mode": {
    "name": "ipython",
    "version": 3
   },
   "file_extension": ".py",
   "mimetype": "text/x-python",
   "name": "python",
   "nbconvert_exporter": "python",
   "pygments_lexer": "ipython3",
   "version": "3.8.2"
  }
 },
 "nbformat": 4,
 "nbformat_minor": 4
}
